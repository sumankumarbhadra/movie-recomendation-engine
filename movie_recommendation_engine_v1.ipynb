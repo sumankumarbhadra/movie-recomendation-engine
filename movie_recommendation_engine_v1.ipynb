{
  "cells": [
    {
      "cell_type": "markdown",
      "metadata": {
        "id": "iqdAGV-qKpNc"
      },
      "source": [
        "# Movie Recommendation Engine using PySpark"
      ]
    },
    {
      "cell_type": "markdown",
      "metadata": {
        "id": "AZieb-4EKuFj"
      },
      "source": [
        "## Setup"
      ]
    },
    {
      "cell_type": "code",
      "execution_count": null,
      "metadata": {
        "colab": {
          "base_uri": "https://localhost:8080/"
        },
        "id": "gfhD41ywxGyX",
        "outputId": "34ff1074-bb39-46fb-ba54-d4b0a7a3108f"
      },
      "outputs": [],
      "source": [
        "!pip install pyspark matplotlib"
      ]
    },
    {
      "cell_type": "code",
      "execution_count": null,
      "metadata": {
        "id": "6QjNYkSGKg9w"
      },
      "outputs": [],
      "source": [
        "from pyspark.sql import SparkSession\n",
        "from pyspark.ml.recommendation import ALS\n",
        "from pyspark.ml.evaluation import RegressionEvaluator\n",
        "from pyspark.sql.functions import (col, isnan, when, count, to_timestamp, explode)\n",
        "from pyspark.ml.evaluation import RegressionEvaluator\n",
        "from pyspark.ml.tuning import ParamGridBuilder, CrossValidator\n",
        "\n",
        "import matplotlib.pyplot as plt\n",
        "\n",
        "spark = SparkSession.builder.getOrCreate()"
      ]
    },
    {
      "cell_type": "markdown",
      "metadata": {
        "id": "6SZymdcGK9hD"
      },
      "source": [
        "## Data Loading and Exploration"
      ]
    },
    {
      "cell_type": "code",
      "execution_count": null,
      "metadata": {
        "colab": {
          "base_uri": "https://localhost:8080/"
        },
        "id": "e2ITqDA6K5rw",
        "outputId": "e069d363-609e-4e15-e74b-82eb4fa17a76"
      },
      "outputs": [],
      "source": [
        "ratings_df = spark.read.csv('ratings.csv', header=True, inferSchema=True)\n",
        "\n",
        "movies_df = spark.read.csv('movies.csv', header=True, inferSchema=True)\n",
        "\n",
        "ratings_df = ratings_df.withColumn(\"timestamp\", to_timestamp(\"timestamp\"))\n",
        "\n",
        "ratings_df.show(5)\n",
        "movies_df.show(5)\n",
        "\n",
        "print(f\"Number of ratings: {ratings_df.count()}\")\n",
        "print(f\"Number of unique users: {ratings_df.select('userId').distinct().count()}\")\n",
        "print(f\"Number of unique movies: {ratings_df.select('movieId').distinct().count()}\")\n"
      ]
    },
    {
      "cell_type": "code",
      "execution_count": null,
      "metadata": {
        "colab": {
          "base_uri": "https://localhost:8080/"
        },
        "id": "Ljafanu-Nj4g",
        "outputId": "0b078bf9-01f1-4b21-b369-cd2d4b87c6d9"
      },
      "outputs": [],
      "source": [
        "# Check for missing values\n",
        "ratings_df.select([count(when(isnan(c) | col(c).isNull(), c)).alias(c)\n",
        "                  for c in ratings_df.columns if c != 'timestamp']).show()"
      ]
    },
    {
      "cell_type": "code",
      "execution_count": null,
      "metadata": {
        "colab": {
          "base_uri": "https://localhost:8080/",
          "height": 564
        },
        "id": "HpzjzICENlyC",
        "outputId": "802592a0-e453-4bf8-d6b9-8c84850e5835"
      },
      "outputs": [],
      "source": [
        "# Visualize rating distribution\n",
        "rating_counts = ratings_df.groupBy(\"rating\").count().orderBy(\"rating\").collect()\n",
        "ratings = [row[\"rating\"] for row in rating_counts]\n",
        "counts = [row[\"count\"] for row in rating_counts]\n",
        "plt.figure(figsize=(10, 6))\n",
        "plt.bar(ratings, counts)\n",
        "plt.xlabel(\"Rating\")\n",
        "plt.ylabel(\"Number of Ratings\")\n",
        "plt.title(\"Distribution of Ratings\")\n",
        "plt.show()"
      ]
    },
    {
      "cell_type": "markdown",
      "metadata": {
        "id": "9oENY6AbLxiy"
      },
      "source": [
        "## Data Preparation and Feature Engineering"
      ]
    },
    {
      "cell_type": "code",
      "execution_count": null,
      "metadata": {
        "id": "FGLtEp-WSHWN"
      },
      "outputs": [],
      "source": [
        "als_data = ratings_df.select(\n",
        "    col(\"userId\").cast(\"integer\"),\n",
        "    col(\"movieId\").cast(\"integer\"),\n",
        "    col(\"rating\").cast(\"float\")\n",
        ")\n",
        "(training, test) = als_data.randomSplit([0.8, 0.2], seed=42)"
      ]
    },
    {
      "cell_type": "markdown",
      "metadata": {
        "id": "MYGuw1eLvZjn"
      },
      "source": [
        "## Build Model"
      ]
    },
    {
      "cell_type": "code",
      "execution_count": null,
      "metadata": {
        "id": "8Wz5q-t8vXwo"
      },
      "outputs": [],
      "source": [
        "from pyspark.ml.recommendation import ALS\n",
        "\n",
        "als = ALS(\n",
        "    maxIter=10,\n",
        "    regParam=0.1,\n",
        "    rank=20,\n",
        "    userCol=\"userId\",\n",
        "    itemCol=\"movieId\",\n",
        "    ratingCol=\"rating\",\n",
        "    coldStartStrategy=\"drop\"\n",
        ")\n"
      ]
    },
    {
      "cell_type": "markdown",
      "metadata": {
        "id": "vDm7BQRpvjRu"
      },
      "source": [
        "## Training"
      ]
    },
    {
      "cell_type": "code",
      "execution_count": null,
      "metadata": {
        "id": "__ENN80kvhp8"
      },
      "outputs": [],
      "source": [
        "param_grid = ParamGridBuilder() \\\n",
        "    .addGrid(als.rank, [10, 20, 30]) \\\n",
        "    .addGrid(als.regParam, [0.1, 0.01, 0.001]) \\\n",
        "    .addGrid(als.maxIter, [10, 15]) \\\n",
        "    .build()\n",
        "\n",
        "evaluator = RegressionEvaluator(\n",
        "    metricName=\"rmse\",\n",
        "    labelCol=\"rating\",\n",
        "    predictionCol=\"prediction\"\n",
        ")\n",
        "\n",
        "cv = CrossValidator(\n",
        "    estimator=als,\n",
        "    estimatorParamMaps=param_grid,\n",
        "    evaluator=evaluator,\n",
        "    numFolds=3\n",
        ")\n",
        "\n",
        "cv_model = cv.fit(training)\n",
        "model = cv_model.bestModel"
      ]
    },
    {
      "cell_type": "markdown",
      "metadata": {
        "id": "c_3xb5Pov4kp"
      },
      "source": [
        "## Evaluation"
      ]
    },
    {
      "cell_type": "code",
      "execution_count": null,
      "metadata": {
        "colab": {
          "base_uri": "https://localhost:8080/"
        },
        "id": "-Wj4wu7OvsCk",
        "outputId": "ea4cb2bd-9fc3-42e9-f51b-ab653fba526e"
      },
      "outputs": [],
      "source": [
        "predictions = model.transform(test)\n",
        "predictions.show(5)"
      ]
    },
    {
      "cell_type": "code",
      "execution_count": null,
      "metadata": {
        "colab": {
          "base_uri": "https://localhost:8080/"
        },
        "id": "8adyxRXrvyLt",
        "outputId": "c18b274e-939f-471c-8653-e180208dbb47"
      },
      "outputs": [],
      "source": [
        "\n",
        "rmse = evaluator.evaluate(predictions)\n",
        "print(f\"RMSE = {rmse}\")"
      ]
    },
    {
      "cell_type": "code",
      "execution_count": null,
      "metadata": {
        "colab": {
          "base_uri": "https://localhost:8080/"
        },
        "id": "TiYP468Xv1j2",
        "outputId": "5acc542d-553e-4f23-d0fa-9fa7abd56720"
      },
      "outputs": [],
      "source": [
        "user_recommendations = model.recommendForAllUsers(10)\n",
        "user_recommendations.show(5, truncate=False)\n"
      ]
    },
    {
      "cell_type": "code",
      "execution_count": null,
      "metadata": {
        "colab": {
          "base_uri": "https://localhost:8080/"
        },
        "id": "o_DdN8B1v8sd",
        "outputId": "4556ac59-9c9c-4fdf-e459-7aedb22baa5a"
      },
      "outputs": [],
      "source": [
        "movie_recommendations = model.recommendForAllItems(10)\n",
        "movie_recommendations.show(5, truncate=False)"
      ]
    },
    {
      "cell_type": "code",
      "execution_count": null,
      "metadata": {
        "colab": {
          "base_uri": "https://localhost:8080/"
        },
        "id": "A1bHjFbKwAj8",
        "outputId": "b87e6b34-7558-41a9-84f9-4646f0ee29e7"
      },
      "outputs": [],
      "source": [
        "user_id = 53\n",
        "user_recs = model.recommendForUserSubset(spark.createDataFrame([(user_id,)], [\"userId\"]), 10)\n",
        "user_recs.show(truncate=False)\n"
      ]
    },
    {
      "cell_type": "code",
      "execution_count": null,
      "metadata": {
        "id": "eg4xVeJS9eXy"
      },
      "outputs": [],
      "source": [
        "def get_recommendations_with_titles(user_id, num_recs=10):\n",
        "    user_recs = model.recommendForUserSubset(\n",
        "        spark.createDataFrame([(user_id,)], [\"userId\"]),\n",
        "        num_recs\n",
        "    )\n",
        "\n",
        "    user_recs = user_recs.select(\n",
        "        \"userId\",\n",
        "        \"recommendations.movieId\",\n",
        "        \"recommendations.rating\"\n",
        "    )\n",
        "\n",
        "    user_recs = user_recs.withColumn(\"movieId\", explode(\"movieId\"))\n",
        "    user_recs = user_recs.withColumn(\"rating\", explode(\"rating\"))\n",
        "\n",
        "    recommendations_with_titles = user_recs.join(\n",
        "        movies_df, on=\"movieId\", how=\"left\"\n",
        "    ).select(\n",
        "        \"userId\", \"movieId\", \"title\", \"genres\", \"rating\"\n",
        "    ).orderBy(\"rating\", ascending=False)\n",
        "\n",
        "    return recommendations_with_titles"
      ]
    },
    {
      "cell_type": "code",
      "execution_count": null,
      "metadata": {
        "colab": {
          "base_uri": "https://localhost:8080/"
        },
        "id": "dk8jEEg6-WAF",
        "outputId": "dfc8db9a-4bb0-46da-a198-c50dccc68676"
      },
      "outputs": [],
      "source": [
        "user_recommendations = get_recommendations_with_titles(53)\n",
        "user_recommendations.show(10)"
      ]
    },
    {
      "cell_type": "code",
      "execution_count": null,
      "metadata": {
        "id": "0uZ05Hml-ak1"
      },
      "outputs": [],
      "source": []
    }
  ],
  "metadata": {
    "colab": {
      "provenance": []
    },
    "kernelspec": {
      "display_name": "Python 3",
      "name": "python3"
    },
    "language_info": {
      "name": "python"
    }
  },
  "nbformat": 4,
  "nbformat_minor": 0
}
